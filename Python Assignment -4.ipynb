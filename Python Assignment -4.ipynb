{
 "cells": [
  {
   "cell_type": "markdown",
   "metadata": {},
   "source": [
    "__1.1 Write a Python Program(with class concepts) to find the area of the triangle using the below \n",
    "formula.__\n",
    "\n",
    "           area = (s*(s-a)*(s-b)*(s-c)) ** 0.5\n",
    "           \n",
    "__Function to take the length of the sides of triangle from user should be defined in the parent \n",
    "class and function to calculate the area should be defined in subclass.__"
   ]
  },
  {
   "cell_type": "code",
   "execution_count": 47,
   "metadata": {},
   "outputs": [
    {
     "name": "stdout",
     "output_type": "stream",
     "text": [
      "Area of Triangle is 9.92\n"
     ]
    }
   ],
   "source": [
    "class Sides_Triangle: # Parent Class\n",
    "    def __init__(self,a,b,c):\n",
    "        self.a = a\n",
    "        self.b = b\n",
    "        self.c = c\n",
    "        \n",
    "class Area_Triangle(Sides_Triangle):  # Child Class\n",
    "    def __init__(self,a,b,c):\n",
    "        super().__init__(a,b,c)\n",
    "    def Calculate_Area(self):\n",
    "        self.s = (self.a + self.b + self.c)/2\n",
    "        self.area = (self.s * (self.s-self.a) * (self.s-self.b) * (self.s-self.c)) ** 0.5\n",
    "        return (self.area)\n",
    "    \n",
    "\n",
    "area1  = Area_Triangle(4,5,6)\n",
    "print('Area of Triangle is',round(area1.Calculate_Area(),2))\n",
    "        "
   ]
  },
  {
   "cell_type": "markdown",
   "metadata": {},
   "source": [
    "__1.2 Write a function filter_long_words() that takes a list of words and an integer n and returns \n",
    "the list of words that are longer than n.__"
   ]
  },
  {
   "cell_type": "code",
   "execution_count": 48,
   "metadata": {},
   "outputs": [
    {
     "name": "stdout",
     "output_type": "stream",
     "text": [
      "['bentennison', 'mangalagiri']\n"
     ]
    }
   ],
   "source": [
    "def filter_long_words(l, n):\n",
    "    return [i for i in l if len(i) > n]\n",
    "print(filter_long_words(['hi','hello','bentennison','mangalagiri'],8))"
   ]
  },
  {
   "cell_type": "markdown",
   "metadata": {},
   "source": [
    "__2.1 Write a Python program using function concept that maps list of words into a list of integers \n",
    "representing the lengths of the corresponding words.\n",
    "Hint: If a list [ ab,cde,erty] is passed on to the python function output should come as [2,3,4]\n",
    "Here 2,3 and 4 are the lengths of the words in the list__"
   ]
  },
  {
   "cell_type": "code",
   "execution_count": 49,
   "metadata": {},
   "outputs": [
    {
     "name": "stdout",
     "output_type": "stream",
     "text": [
      "[2, 5, 11, 11]\n"
     ]
    }
   ],
   "source": [
    "def len_words(l):\n",
    "    return [len(i) for i in l ]\n",
    "print(len_words(['hi','hello','bentennison','mangalagiri']))"
   ]
  },
  {
   "cell_type": "markdown",
   "metadata": {},
   "source": [
    "__2.2 Write a Python function which takes a character (i.e. a string of length 1) and returns True if \n",
    "it is a vowel, False otherwise.__"
   ]
  },
  {
   "cell_type": "code",
   "execution_count": 53,
   "metadata": {},
   "outputs": [
    {
     "ename": "SyntaxError",
     "evalue": "invalid syntax (<ipython-input-53-f6dea78660c8>, line 2)",
     "output_type": "error",
     "traceback": [
      "\u001b[1;36m  File \u001b[1;32m\"<ipython-input-53-f6dea78660c8>\"\u001b[1;36m, line \u001b[1;32m2\u001b[0m\n\u001b[1;33m    return [for i in l if i.lower() in ['a','e','i','o','u'] True  else False]\u001b[0m\n\u001b[1;37m              ^\u001b[0m\n\u001b[1;31mSyntaxError\u001b[0m\u001b[1;31m:\u001b[0m invalid syntax\n"
     ]
    }
   ],
   "source": [
    "def vowels(l):\n",
    "    return [for i in l ]\n",
    "print(vowels(['i','h','n','A', 'g', 'E']))"
   ]
  },
  {
   "cell_type": "code",
   "execution_count": null,
   "metadata": {},
   "outputs": [],
   "source": []
  }
 ],
 "metadata": {
  "kernelspec": {
   "display_name": "Python 3",
   "language": "python",
   "name": "python3"
  },
  "language_info": {
   "codemirror_mode": {
    "name": "ipython",
    "version": 3
   },
   "file_extension": ".py",
   "mimetype": "text/x-python",
   "name": "python",
   "nbconvert_exporter": "python",
   "pygments_lexer": "ipython3",
   "version": "3.7.6"
  }
 },
 "nbformat": 4,
 "nbformat_minor": 4
}
